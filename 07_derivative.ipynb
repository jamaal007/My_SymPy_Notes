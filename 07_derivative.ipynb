{
 "cells": [
  {
   "cell_type": "markdown",
   "metadata": {},
   "source": [
    "# **Drivatives In SymPy**\n",
    "In this section, we are going to to work with derivatives. We will also see a function that lets us rewrite functions in a convenient way. \n",
    "\n",
    "#### **Function and Attributes:**\n",
    " - **sp.diff()**        - Computes the derivatives of an expression.\n",
    " - **.rewrite()**       - Rewrite a function in terms of another function."
   ]
  },
  {
   "cell_type": "code",
   "execution_count": 1,
   "metadata": {},
   "outputs": [],
   "source": [
    "# Import the SymPy Library\n",
    "import sympy as sp\n",
    "\n",
    "x, y = sp.symbols(\"x, y\")"
   ]
  },
  {
   "cell_type": "code",
   "execution_count": 2,
   "metadata": {},
   "outputs": [
    {
     "data": {
      "text/latex": [
       "$\\displaystyle x$"
      ],
      "text/plain": [
       "x"
      ]
     },
     "execution_count": 2,
     "metadata": {},
     "output_type": "execute_result"
    }
   ],
   "source": [
    "x"
   ]
  },
  {
   "cell_type": "code",
   "execution_count": 3,
   "metadata": {},
   "outputs": [
    {
     "data": {
      "text/latex": [
       "$\\displaystyle y$"
      ],
      "text/plain": [
       "y"
      ]
     },
     "execution_count": 3,
     "metadata": {},
     "output_type": "execute_result"
    }
   ],
   "source": [
    "y"
   ]
  },
  {
   "cell_type": "markdown",
   "metadata": {},
   "source": [
    "### **Basic Differentiation**\n",
    "In SymPy, we can differentiate functions and expressions. To do this, we use the **sp.diff()** function."
   ]
  },
  {
   "cell_type": "code",
   "execution_count": 4,
   "metadata": {},
   "outputs": [
    {
     "data": {
      "text/latex": [
       "$\\displaystyle e^{2 x} + \\sin{\\left(x \\right)}$"
      ],
      "text/plain": [
       "exp(2*x) + sin(x)"
      ]
     },
     "execution_count": 4,
     "metadata": {},
     "output_type": "execute_result"
    }
   ],
   "source": [
    "# Defining an expression \n",
    "expr = sp.exp(2 * x) + sp.sin(x)\n",
    "expr"
   ]
  },
  {
   "cell_type": "code",
   "execution_count": 5,
   "metadata": {},
   "outputs": [
    {
     "data": {
      "text/latex": [
       "$\\displaystyle 2 e^{2 x} + \\cos{\\left(x \\right)}$"
      ],
      "text/plain": [
       "2*exp(2*x) + cos(x)"
      ]
     },
     "execution_count": 5,
     "metadata": {},
     "output_type": "execute_result"
    }
   ],
   "source": [
    "# Differentiating the expression\n",
    "sp.diff(expr)"
   ]
  },
  {
   "cell_type": "code",
   "execution_count": 6,
   "metadata": {},
   "outputs": [
    {
     "data": {
      "text/latex": [
       "$\\displaystyle 2 e^{2 x} + \\cos{\\left(x \\right)}$"
      ],
      "text/plain": [
       "2*exp(2*x) + cos(x)"
      ]
     },
     "execution_count": 6,
     "metadata": {},
     "output_type": "execute_result"
    }
   ],
   "source": [
    "# Can also specify the variables of differentiation \n",
    "sp.diff(expr, x)"
   ]
  },
  {
   "cell_type": "code",
   "execution_count": 7,
   "metadata": {},
   "outputs": [
    {
     "data": {
      "text/latex": [
       "$\\displaystyle 4 e^{2 x} - \\sin{\\left(x \\right)}$"
      ],
      "text/plain": [
       "4*exp(2*x) - sin(x)"
      ]
     },
     "execution_count": 7,
     "metadata": {},
     "output_type": "execute_result"
    }
   ],
   "source": [
    "# We can differentiate multiple times\n",
    "sp.diff(sp.diff(expr))   "
   ]
  },
  {
   "cell_type": "markdown",
   "metadata": {},
   "source": [
    "Another Way!"
   ]
  },
  {
   "cell_type": "code",
   "execution_count": 8,
   "metadata": {},
   "outputs": [
    {
     "data": {
      "text/latex": [
       "$\\displaystyle 4 e^{2 x} - \\sin{\\left(x \\right)}$"
      ],
      "text/plain": [
       "4*exp(2*x) - sin(x)"
      ]
     },
     "execution_count": 8,
     "metadata": {},
     "output_type": "execute_result"
    }
   ],
   "source": [
    "# Double derivative\n",
    "sp.diff(expr, x, x)"
   ]
  },
  {
   "cell_type": "markdown",
   "metadata": {},
   "source": [
    "This gives the same thing!"
   ]
  },
  {
   "cell_type": "code",
   "execution_count": 9,
   "metadata": {},
   "outputs": [
    {
     "data": {
      "text/latex": [
       "$\\displaystyle 128 e^{2 x} - \\cos{\\left(x \\right)}$"
      ],
      "text/plain": [
       "128*exp(2*x) - cos(x)"
      ]
     },
     "execution_count": 9,
     "metadata": {},
     "output_type": "execute_result"
    }
   ],
   "source": [
    "# 7th derivative\n",
    "sp.diff(expr, x, 7)"
   ]
  },
  {
   "cell_type": "markdown",
   "metadata": {},
   "source": [
    "### **Rewriting Functions**\n",
    "In SymPy, we can use the **.rewritr()** method to rewrite a function in terms of another function. "
   ]
  },
  {
   "cell_type": "code",
   "execution_count": 10,
   "metadata": {},
   "outputs": [
    {
     "data": {
      "text/latex": [
       "$\\displaystyle e^{- \\frac{e^{x}}{2}} e^{\\sinh{\\left(x \\right)}}$"
      ],
      "text/plain": [
       "exp(-exp(x)/2)*exp(sinh(x))"
      ]
     },
     "execution_count": 10,
     "metadata": {},
     "output_type": "execute_result"
    }
   ],
   "source": [
    "# Our expression\n",
    "expr = sp.exp(sp.sinh(x)) / sp.exp(sp.exp(x)/2)\n",
    "expr"
   ]
  },
  {
   "cell_type": "code",
   "execution_count": 11,
   "metadata": {},
   "outputs": [
    {
     "data": {
      "text/latex": [
       "$\\displaystyle e^{\\frac{e^{x}}{2} - \\frac{e^{- x}}{2}} e^{- \\frac{e^{x}}{2}}$"
      ],
      "text/plain": [
       "exp(exp(x)/2 - exp(-x)/2)*exp(-exp(x)/2)"
      ]
     },
     "execution_count": 11,
     "metadata": {},
     "output_type": "execute_result"
    }
   ],
   "source": [
    "# Rewrite the expression in term of exponential functions\n",
    "expo = expr.rewrite(sp.exp)\n",
    "expo"
   ]
  },
  {
   "cell_type": "code",
   "execution_count": 12,
   "metadata": {},
   "outputs": [
    {
     "data": {
      "text/latex": [
       "$\\displaystyle e^{- \\frac{e^{- x}}{2}}$"
      ],
      "text/plain": [
       "exp(-exp(-x)/2)"
      ]
     },
     "execution_count": 12,
     "metadata": {},
     "output_type": "execute_result"
    }
   ],
   "source": [
    "# We can now simplify\n",
    "expo.simplify()"
   ]
  },
  {
   "cell_type": "code",
   "execution_count": 13,
   "metadata": {},
   "outputs": [
    {
     "data": {
      "text/latex": [
       "$\\displaystyle e^{- \\frac{e^{x}}{2} + \\sinh{\\left(x \\right)}}$"
      ],
      "text/plain": [
       "exp(-exp(x)/2 + sinh(x))"
      ]
     },
     "execution_count": 13,
     "metadata": {},
     "output_type": "execute_result"
    }
   ],
   "source": [
    "# We could not have simplified it right away!\n",
    "expr.simplify()"
   ]
  },
  {
   "cell_type": "markdown",
   "metadata": {},
   "source": [
    "## **Rewriting and Partial Derivatives**\n",
    "We can use the function **sp.diff()**\n",
    "to take partial derivatives. When doing this, the rewrite function is often helpful to get the partial derivatives in a simplified form. "
   ]
  },
  {
   "cell_type": "code",
   "execution_count": 14,
   "metadata": {},
   "outputs": [
    {
     "data": {
      "text/latex": [
       "$\\displaystyle \\cos{\\left(x \\right)} \\cot^{2}{\\left(2 y \\right)}$"
      ],
      "text/plain": [
       "cos(x)*cot(2*y)**2"
      ]
     },
     "execution_count": 14,
     "metadata": {},
     "output_type": "execute_result"
    }
   ],
   "source": [
    "# Defining a multivariable function\n",
    "two_variables = sp.cos(x) * sp.cot(2 * y) ** 2\n",
    "two_variables"
   ]
  },
  {
   "cell_type": "code",
   "execution_count": 15,
   "metadata": {},
   "outputs": [
    {
     "data": {
      "text/latex": [
       "$\\displaystyle \\left(- 4 \\cot^{2}{\\left(2 y \\right)} - 4\\right) \\cos{\\left(x \\right)} \\cot{\\left(2 y \\right)}$"
      ],
      "text/plain": [
       "(-4*cot(2*y)**2 - 4)*cos(x)*cot(2*y)"
      ]
     },
     "execution_count": 15,
     "metadata": {},
     "output_type": "execute_result"
    }
   ],
   "source": [
    "# Differentiating the function with respect to y\n",
    "partial_y = two_variables.diff(y)\n",
    "partial_y"
   ]
  },
  {
   "cell_type": "code",
   "execution_count": 16,
   "metadata": {},
   "outputs": [
    {
     "data": {
      "text/latex": [
       "$\\displaystyle \\frac{\\left(-4 - \\frac{\\sin^{2}{\\left(4 y \\right)}}{\\sin^{4}{\\left(2 y \\right)}}\\right) \\sin{\\left(4 y \\right)} \\sin{\\left(x + \\frac{\\pi}{2} \\right)}}{2 \\sin^{2}{\\left(2 y \\right)}}$"
      ],
      "text/plain": [
       "(-4 - sin(4*y)**2/sin(2*y)**4)*sin(4*y)*sin(x + pi/2)/(2*sin(2*y)**2)"
      ]
     },
     "execution_count": 16,
     "metadata": {},
     "output_type": "execute_result"
    }
   ],
   "source": [
    "# Trying to get it on a simpler form\n",
    "partial_y.rewrite(sp.sin)"
   ]
  },
  {
   "cell_type": "code",
   "execution_count": 17,
   "metadata": {},
   "outputs": [
    {
     "data": {
      "text/latex": [
       "$\\displaystyle - \\frac{4 \\cos{\\left(x \\right)} \\cot{\\left(2 y \\right)}}{\\sin^{2}{\\left(2 y \\right)}}$"
      ],
      "text/plain": [
       "-4*cos(x)*cot(2*y)/sin(2*y)**2"
      ]
     },
     "execution_count": 17,
     "metadata": {},
     "output_type": "execute_result"
    }
   ],
   "source": [
    "# Let us try first simplify it usually \n",
    "simplified_y = partial_y.simplify()\n",
    "simplified_y"
   ]
  },
  {
   "cell_type": "code",
   "execution_count": 18,
   "metadata": {},
   "outputs": [
    {
     "data": {
      "text/latex": [
       "$\\displaystyle - \\frac{2 \\sin{\\left(4 y \\right)} \\sin{\\left(x + \\frac{\\pi}{2} \\right)}}{\\sin^{4}{\\left(2 y \\right)}}$"
      ],
      "text/plain": [
       "-2*sin(4*y)*sin(x + pi/2)/sin(2*y)**4"
      ]
     },
     "execution_count": 18,
     "metadata": {},
     "output_type": "execute_result"
    }
   ],
   "source": [
    "# Then let us finally use the rewrite function\n",
    "simplified_y.rewrite(sp.sin)"
   ]
  },
  {
   "cell_type": "code",
   "execution_count": 19,
   "metadata": {},
   "outputs": [
    {
     "data": {
      "text/latex": [
       "$\\displaystyle 8 \\left(\\cot^{2}{\\left(2 y \\right)} + 1\\right) \\left(3 \\cot^{2}{\\left(2 y \\right)} + 1\\right) \\sin{\\left(x \\right)}$"
      ],
      "text/plain": [
       "8*(cot(2*y)**2 + 1)*(3*cot(2*y)**2 + 1)*sin(x)"
      ]
     },
     "execution_count": 19,
     "metadata": {},
     "output_type": "execute_result"
    }
   ],
   "source": [
    "# Taking the third derivative with respect to x and second with respect to y\n",
    "two_variables.diff(x,x,x,y,y)"
   ]
  },
  {
   "cell_type": "code",
   "execution_count": 20,
   "metadata": {},
   "outputs": [
    {
     "data": {
      "text/latex": [
       "$\\displaystyle 8 \\left(\\cot^{2}{\\left(2 y \\right)} + 1\\right) \\left(3 \\cot^{2}{\\left(2 y \\right)} + 1\\right) \\sin{\\left(x \\right)}$"
      ],
      "text/plain": [
       "8*(cot(2*y)**2 + 1)*(3*cot(2*y)**2 + 1)*sin(x)"
      ]
     },
     "execution_count": 20,
     "metadata": {},
     "output_type": "execute_result"
    }
   ],
   "source": [
    "two_variables.diff(y,y, x,x,x)"
   ]
  },
  {
   "cell_type": "code",
   "execution_count": 21,
   "metadata": {},
   "outputs": [
    {
     "data": {
      "text/latex": [
       "$\\displaystyle 8 \\left(\\cot^{2}{\\left(2 y \\right)} + 1\\right) \\left(3 \\cot^{2}{\\left(2 y \\right)} + 1\\right) \\sin{\\left(x \\right)}$"
      ],
      "text/plain": [
       "8*(cot(2*y)**2 + 1)*(3*cot(2*y)**2 + 1)*sin(x)"
      ]
     },
     "execution_count": 21,
     "metadata": {},
     "output_type": "execute_result"
    }
   ],
   "source": [
    "two_variables.diff(y,2, x,3)"
   ]
  }
 ],
 "metadata": {
  "kernelspec": {
   "display_name": "Python 3",
   "language": "python",
   "name": "python3"
  },
  "language_info": {
   "codemirror_mode": {
    "name": "ipython",
    "version": 3
   },
   "file_extension": ".py",
   "mimetype": "text/x-python",
   "name": "python",
   "nbconvert_exporter": "python",
   "pygments_lexer": "ipython3",
   "version": "3.12.5"
  }
 },
 "nbformat": 4,
 "nbformat_minor": 2
}
