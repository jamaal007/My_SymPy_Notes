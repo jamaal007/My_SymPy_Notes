{
 "cells": [
  {
   "cell_type": "markdown",
   "metadata": {},
   "source": [
    "# **Limits and Series**\n",
    "In this Section, we are going to work with limits and series.\n",
    "\n",
    "\n",
    "### **Function and Attributes**\n",
    " - **sp.limit()**          - Computes the limits of a function at a point. \n",
    " - **sp.series()**         - Computes the Tayler series of a function at a point. \n",
    " - **.removeO()**          - Removes the **\"big O\"** from Tayler series.  "
   ]
  },
  {
   "cell_type": "code",
   "execution_count": 1,
   "metadata": {},
   "outputs": [],
   "source": [
    "# Import SymPy Library\n",
    "import sympy as sp "
   ]
  },
  {
   "cell_type": "markdown",
   "metadata": {},
   "source": [
    "### **Limits**\n",
    "In calculus, we are intriduced to limits of a function **f(x)** towards a point p. When a function is continous we know that the limit corresponds to f(p). However, sometimes the limits exists even though the function value does not. We denote the limit by \n",
    "\n",
    "$\\lim_{{x \\to p}} f(x)$\n",
    "\n",
    "##### **A Simple Example**\n",
    "\n"
   ]
  },
  {
   "cell_type": "code",
   "execution_count": 2,
   "metadata": {},
   "outputs": [
    {
     "data": {
      "text/latex": [
       "$\\displaystyle x$"
      ],
      "text/plain": [
       "x"
      ]
     },
     "execution_count": 2,
     "metadata": {},
     "output_type": "execute_result"
    }
   ],
   "source": [
    "# Create a symbol \n",
    "x = sp.Symbol(\"x\")\n",
    "x"
   ]
  },
  {
   "cell_type": "code",
   "execution_count": 3,
   "metadata": {},
   "outputs": [
    {
     "data": {
      "text/latex": [
       "$\\displaystyle x^{2}$"
      ],
      "text/plain": [
       "x**2"
      ]
     },
     "execution_count": 3,
     "metadata": {},
     "output_type": "execute_result"
    }
   ],
   "source": [
    "# Create a function\n",
    "expr = x ** 2\n",
    "expr"
   ]
  },
  {
   "cell_type": "code",
   "execution_count": 4,
   "metadata": {},
   "outputs": [
    {
     "data": {
      "text/latex": [
       "$\\displaystyle 1$"
      ],
      "text/plain": [
       "1"
      ]
     },
     "execution_count": 4,
     "metadata": {},
     "output_type": "execute_result"
    }
   ],
   "source": [
    "# Take the limis\n",
    "sp.limit(expr, x, 1)"
   ]
  },
  {
   "cell_type": "code",
   "execution_count": 5,
   "metadata": {},
   "outputs": [
    {
     "data": {
      "text/latex": [
       "$\\displaystyle 1$"
      ],
      "text/plain": [
       "1"
      ]
     },
     "execution_count": 5,
     "metadata": {},
     "output_type": "execute_result"
    }
   ],
   "source": [
    "# Could have just substituted\n",
    "expr.subs(x, 1)"
   ]
  },
  {
   "cell_type": "markdown",
   "metadata": {},
   "source": [
    "##### **A Limit at Infinity**"
   ]
  },
  {
   "cell_type": "code",
   "execution_count": 6,
   "metadata": {},
   "outputs": [
    {
     "data": {
      "text/latex": [
       "$\\displaystyle x e^{- x}$"
      ],
      "text/plain": [
       "x*exp(-x)"
      ]
     },
     "execution_count": 6,
     "metadata": {},
     "output_type": "execute_result"
    }
   ],
   "source": [
    "# A rapidly decaying function \n",
    "exponential = x / sp.exp(x)\n",
    "exponential"
   ]
  },
  {
   "cell_type": "code",
   "execution_count": 7,
   "metadata": {},
   "outputs": [
    {
     "data": {
      "text/latex": [
       "$\\displaystyle 0$"
      ],
      "text/plain": [
       "0"
      ]
     },
     "execution_count": 7,
     "metadata": {},
     "output_type": "execute_result"
    }
   ],
   "source": [
    "# Taking the limit \n",
    "sp.limit(exponential, x, sp.oo)"
   ]
  },
  {
   "cell_type": "code",
   "execution_count": 8,
   "metadata": {},
   "outputs": [
    {
     "data": {
      "text/latex": [
       "$\\displaystyle \\text{NaN}$"
      ],
      "text/plain": [
       "nan"
      ]
     },
     "execution_count": 8,
     "metadata": {},
     "output_type": "execute_result"
    }
   ],
   "source": [
    "# Substitution does not work here \n",
    "exponential.subs(x, sp.oo)"
   ]
  },
  {
   "cell_type": "markdown",
   "metadata": {},
   "source": [
    "### **Watch Out! Limits are Taken From the Right**"
   ]
  },
  {
   "cell_type": "code",
   "execution_count": 9,
   "metadata": {},
   "outputs": [
    {
     "data": {
      "text/latex": [
       "$\\displaystyle \\frac{1}{x}$"
      ],
      "text/plain": [
       "1/x"
      ]
     },
     "execution_count": 9,
     "metadata": {},
     "output_type": "execute_result"
    }
   ],
   "source": [
    "# A simple expression \n",
    "expr = 1 / x\n",
    "expr"
   ]
  },
  {
   "cell_type": "code",
   "execution_count": 10,
   "metadata": {},
   "outputs": [
    {
     "data": {
      "text/latex": [
       "$\\displaystyle \\infty$"
      ],
      "text/plain": [
       "oo"
      ]
     },
     "execution_count": 10,
     "metadata": {},
     "output_type": "execute_result"
    }
   ],
   "source": [
    "# Limits is by defualt the right limits in SymPy\n",
    "sp.limit(expr, x, 0, \"+\")"
   ]
  },
  {
   "cell_type": "code",
   "execution_count": 11,
   "metadata": {},
   "outputs": [
    {
     "data": {
      "text/latex": [
       "$\\displaystyle -\\infty$"
      ],
      "text/plain": [
       "-oo"
      ]
     },
     "execution_count": 11,
     "metadata": {},
     "output_type": "execute_result"
    }
   ],
   "source": [
    "# Getting the left limit\n",
    "sp.limit(expr, x, 0, \"-\")"
   ]
  },
  {
   "cell_type": "code",
   "execution_count": 12,
   "metadata": {},
   "outputs": [
    {
     "data": {
      "text/latex": [
       "$\\displaystyle \\tilde{\\infty}$"
      ],
      "text/plain": [
       "zoo"
      ]
     },
     "execution_count": 12,
     "metadata": {},
     "output_type": "execute_result"
    }
   ],
   "source": [
    "# Getting both right and left limit\n",
    "sp.limit(expr, x, 0, \"+-\")"
   ]
  },
  {
   "cell_type": "markdown",
   "metadata": {},
   "source": [
    "## **Series**\n",
    "Polynomials are usually a lot easier to deal with than arbitrary function. Luckily, we can expand any (nice) function into an infinite sum of polynomail. This is called **Tayler series**. "
   ]
  },
  {
   "cell_type": "code",
   "execution_count": 13,
   "metadata": {},
   "outputs": [
    {
     "data": {
      "text/latex": [
       "$\\displaystyle 1 - \\frac{\\left(x - \\frac{\\pi}{2}\\right)^{2}}{2} + \\frac{\\left(x - \\frac{\\pi}{2}\\right)^{4}}{24} + O\\left(\\left(x - \\frac{\\pi}{2}\\right)^{6}; x\\rightarrow \\frac{\\pi}{2}\\right)$"
      ],
      "text/plain": [
       "1 - (x - pi/2)**2/2 + (x - pi/2)**4/24 + O((x - pi/2)**6, (x, pi/2))"
      ]
     },
     "execution_count": 13,
     "metadata": {},
     "output_type": "execute_result"
    }
   ],
   "source": [
    "# Finding the tayler series of sin(x) at x=pi/2\n",
    "sp.series(sp.sin(x), x, sp.pi/2)"
   ]
  },
  {
   "cell_type": "markdown",
   "metadata": {},
   "source": [
    "### **What we can do With Tayler Series**"
   ]
  },
  {
   "cell_type": "code",
   "execution_count": 14,
   "metadata": {},
   "outputs": [
    {
     "data": {
      "text/latex": [
       "$\\displaystyle e^{\\sin{\\left(x \\right)}}$"
      ],
      "text/plain": [
       "exp(sin(x))"
      ]
     },
     "execution_count": 14,
     "metadata": {},
     "output_type": "execute_result"
    }
   ],
   "source": [
    "# A simple expression\n",
    "expr = sp.exp(sp.sin(x))\n",
    "expr"
   ]
  },
  {
   "cell_type": "code",
   "execution_count": 15,
   "metadata": {},
   "outputs": [
    {
     "data": {
      "text/latex": [
       "$\\displaystyle 1 + x + \\frac{x^{2}}{2} - \\frac{x^{4}}{8} - \\frac{x^{5}}{15} - \\frac{x^{6}}{240} + \\frac{x^{7}}{90} + O\\left(x^{8}\\right)$"
      ],
      "text/plain": [
       "1 + x + x**2/2 - x**4/8 - x**5/15 - x**6/240 + x**7/90 + O(x**8)"
      ]
     },
     "execution_count": 15,
     "metadata": {},
     "output_type": "execute_result"
    }
   ],
   "source": [
    "# Get more terms\n",
    "sp.series(expr, x, 0, n=8)    # n is optional for getting more terms"
   ]
  },
  {
   "cell_type": "code",
   "execution_count": 16,
   "metadata": {},
   "outputs": [
    {
     "data": {
      "text/latex": [
       "$\\displaystyle \\left(x - \\frac{x^{3}}{6} + \\frac{x^{5}}{120} + O\\left(x^{6}\\right)\\right) \\left(1 + x + \\frac{x^{2}}{2} - \\frac{x^{4}}{8} - \\frac{x^{5}}{15} - \\frac{x^{6}}{240} + \\frac{x^{7}}{90} + O\\left(x^{8}\\right)\\right)$"
      ],
      "text/plain": [
       "(x - x**3/6 + x**5/120 + O(x**6))*(1 + x + x**2/2 - x**4/8 - x**5/15 - x**6/240 + x**7/90 + O(x**8))"
      ]
     },
     "execution_count": 16,
     "metadata": {},
     "output_type": "execute_result"
    }
   ],
   "source": [
    "# We can do arithmetic with Tayler expression\n",
    "sp.series(expr, x, 0, n=8) * sp.series(sp.sin(x), x, 0, n=6)"
   ]
  },
  {
   "cell_type": "code",
   "execution_count": 17,
   "metadata": {},
   "outputs": [
    {
     "data": {
      "text/latex": [
       "$\\displaystyle x + x^{2} + \\frac{x^{3}}{3} - \\frac{x^{4}}{6} - \\frac{x^{5}}{5} + O\\left(x^{6}\\right)$"
      ],
      "text/plain": [
       "x + x**2 + x**3/3 - x**4/6 - x**5/5 + O(x**6)"
      ]
     },
     "execution_count": 17,
     "metadata": {},
     "output_type": "execute_result"
    }
   ],
   "source": [
    "(sp.series(expr, x, 0, n=8) * sp.series(sp.sin(x), x, 0, n=6)).expand()"
   ]
  },
  {
   "cell_type": "code",
   "execution_count": 18,
   "metadata": {},
   "outputs": [
    {
     "data": {
      "text/latex": [
       "$\\displaystyle 1 + x - \\frac{x^{3}}{2} - \\frac{x^{4}}{3} - \\frac{x^{5}}{40} + \\frac{7 x^{6}}{90} + O\\left(x^{7}\\right)$"
      ],
      "text/plain": [
       "1 + x - x**3/2 - x**4/3 - x**5/40 + 7*x**6/90 + O(x**7)"
      ]
     },
     "execution_count": 18,
     "metadata": {},
     "output_type": "execute_result"
    }
   ],
   "source": [
    "# We can differentiate Tayler series \n",
    "sp.diff(sp.series(expr, x, 0, n=8))"
   ]
  },
  {
   "cell_type": "code",
   "execution_count": 19,
   "metadata": {},
   "outputs": [
    {
     "data": {
      "text/latex": [
       "$\\displaystyle x + \\frac{x^{2}}{2} + \\frac{x^{3}}{6} - \\frac{x^{5}}{40} - \\frac{x^{6}}{90} - \\frac{x^{7}}{1680} + \\frac{x^{8}}{720} + O\\left(x^{9}\\right)$"
      ],
      "text/plain": [
       "x + x**2/2 + x**3/6 - x**5/40 - x**6/90 - x**7/1680 + x**8/720 + O(x**9)"
      ]
     },
     "execution_count": 19,
     "metadata": {},
     "output_type": "execute_result"
    }
   ],
   "source": [
    "# We can differentiate integrate Tayler series \n",
    "sp.integrate(sp.series(expr, x, 0, n=8))"
   ]
  },
  {
   "cell_type": "code",
   "execution_count": 20,
   "metadata": {},
   "outputs": [
    {
     "data": {
      "text/latex": [
       "$\\displaystyle \\frac{x^{7}}{90} - \\frac{x^{6}}{240} - \\frac{x^{5}}{15} - \\frac{x^{4}}{8} + \\frac{x^{2}}{2} + x + 1$"
      ],
      "text/plain": [
       "x**7/90 - x**6/240 - x**5/15 - x**4/8 + x**2/2 + x + 1"
      ]
     },
     "execution_count": 20,
     "metadata": {},
     "output_type": "execute_result"
    }
   ],
   "source": [
    "# We can remove the \"Big O\" from the expression \n",
    "sp.series(expr, x, 0, n=8).removeO()"
   ]
  }
 ],
 "metadata": {
  "kernelspec": {
   "display_name": "Python 3",
   "language": "python",
   "name": "python3"
  },
  "language_info": {
   "codemirror_mode": {
    "name": "ipython",
    "version": 3
   },
   "file_extension": ".py",
   "mimetype": "text/x-python",
   "name": "python",
   "nbconvert_exporter": "python",
   "pygments_lexer": "ipython3",
   "version": "3.12.5"
  }
 },
 "nbformat": 4,
 "nbformat_minor": 2
}
