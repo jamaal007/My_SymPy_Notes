{
 "cells": [
  {
   "cell_type": "markdown",
   "metadata": {},
   "source": [
    "# **Ordinary Differential Equation**\n",
    "In this section, we are going to learn how to solve ODE's in SymPy. We will also learn how to specify intial conditions when solvings ODE's.\n",
    "\n",
    "### **Functions and Attributes**\n",
    " - **.rhs**                   - Getting the right-hand side of an equation. \n",
    " - **.lhs**                   - Geting the left-hand side of an equation.\n",
    " - **sp.dsolve()**            - Solving a differrential equation.\n",
    " - **sp.Function(**)          - Creating an unspecified function. "
   ]
  },
  {
   "cell_type": "code",
   "execution_count": 1,
   "metadata": {},
   "outputs": [],
   "source": [
    "# Import the SymPy Library\n",
    "import sympy as sp"
   ]
  },
  {
   "cell_type": "code",
   "execution_count": 2,
   "metadata": {},
   "outputs": [
    {
     "data": {
      "text/latex": [
       "$\\displaystyle x$"
      ],
      "text/plain": [
       "x"
      ]
     },
     "execution_count": 2,
     "metadata": {},
     "output_type": "execute_result"
    }
   ],
   "source": [
    "# Creating the variable x\n",
    "x = sp.Symbol(\"x\")\n",
    "x"
   ]
  },
  {
   "cell_type": "markdown",
   "metadata": {},
   "source": [
    "In this section, we are going to solve the ODE\n",
    "\n",
    "with intial conditions f(1)=0 and f'(x)=x^3\n",
    "\n",
    "### **Creating an ODE**\n",
    "Before solving ODE's, we first need to learn how write ODE's in SymPy. "
   ]
  },
  {
   "cell_type": "code",
   "execution_count": 3,
   "metadata": {},
   "outputs": [
    {
     "data": {
      "text/latex": [
       "$\\displaystyle f{\\left(x \\right)}$"
      ],
      "text/plain": [
       "f(x)"
      ]
     },
     "execution_count": 3,
     "metadata": {},
     "output_type": "execute_result"
    }
   ],
   "source": [
    "# Creating a function object\n",
    "f = sp.Function(\"f\")(x)\n",
    "f"
   ]
  },
  {
   "cell_type": "code",
   "execution_count": 4,
   "metadata": {},
   "outputs": [
    {
     "data": {
      "text/latex": [
       "$\\displaystyle \\frac{d}{d x} f{\\left(x \\right)}$"
      ],
      "text/plain": [
       "Derivative(f(x), x)"
      ]
     },
     "execution_count": 4,
     "metadata": {},
     "output_type": "execute_result"
    }
   ],
   "source": [
    "# Taking the derivative of the function\n",
    "f.diff()"
   ]
  },
  {
   "cell_type": "code",
   "execution_count": 5,
   "metadata": {},
   "outputs": [
    {
     "data": {
      "text/latex": [
       "$\\displaystyle x \\frac{d^{2}}{d x^{2}} f{\\left(x \\right)} + \\frac{d}{d x} f{\\left(x \\right)} = x^{3}$"
      ],
      "text/plain": [
       "Eq(x*Derivative(f(x), (x, 2)) + Derivative(f(x), x), x**3)"
      ]
     },
     "execution_count": 5,
     "metadata": {},
     "output_type": "execute_result"
    }
   ],
   "source": [
    "# Creating a differential equation \n",
    "diff_eq = sp.Eq(x * f.diff(x,x)+f.diff(x), x**3)\n",
    "diff_eq"
   ]
  },
  {
   "cell_type": "code",
   "execution_count": 6,
   "metadata": {},
   "outputs": [
    {
     "data": {
      "text/latex": [
       "$\\displaystyle x^{3}$"
      ],
      "text/plain": [
       "x**3"
      ]
     },
     "execution_count": 6,
     "metadata": {},
     "output_type": "execute_result"
    }
   ],
   "source": [
    "# Getting the RHS\n",
    "diff_eq.rhs"
   ]
  },
  {
   "cell_type": "code",
   "execution_count": 7,
   "metadata": {},
   "outputs": [
    {
     "data": {
      "text/latex": [
       "$\\displaystyle x \\frac{d^{2}}{d x^{2}} f{\\left(x \\right)} + \\frac{d}{d x} f{\\left(x \\right)}$"
      ],
      "text/plain": [
       "x*Derivative(f(x), (x, 2)) + Derivative(f(x), x)"
      ]
     },
     "execution_count": 7,
     "metadata": {},
     "output_type": "execute_result"
    }
   ],
   "source": [
    "# Getting the LHS\n",
    "diff_eq.lhs"
   ]
  },
  {
   "cell_type": "markdown",
   "metadata": {},
   "source": [
    "### **Solving the ODE**\n",
    "We can now use SymPy to solve ODE's. We do this with the **dsolve()** function. "
   ]
  },
  {
   "cell_type": "code",
   "execution_count": 8,
   "metadata": {},
   "outputs": [
    {
     "data": {
      "text/latex": [
       "$\\displaystyle f{\\left(x \\right)} = C_{1} + C_{2} \\log{\\left(x \\right)} + \\frac{x^{4}}{16}$"
      ],
      "text/plain": [
       "Eq(f(x), C1 + C2*log(x) + x**4/16)"
      ]
     },
     "execution_count": 8,
     "metadata": {},
     "output_type": "execute_result"
    }
   ],
   "source": [
    "# Solving the ODE\n",
    "sol = sp.dsolve(diff_eq, f)\n",
    "sol"
   ]
  },
  {
   "cell_type": "code",
   "execution_count": 9,
   "metadata": {},
   "outputs": [
    {
     "data": {
      "text/plain": [
       "sympy.core.relational.Equality"
      ]
     },
     "execution_count": 9,
     "metadata": {},
     "output_type": "execute_result"
    }
   ],
   "source": [
    "# The Type of the solution \n",
    "type(sol)"
   ]
  },
  {
   "cell_type": "code",
   "execution_count": 10,
   "metadata": {},
   "outputs": [
    {
     "data": {
      "text/latex": [
       "$\\displaystyle C_{1} + C_{2} \\log{\\left(x \\right)} + \\frac{x^{4}}{16}$"
      ],
      "text/plain": [
       "C1 + C2*log(x) + x**4/16"
      ]
     },
     "execution_count": 10,
     "metadata": {},
     "output_type": "execute_result"
    }
   ],
   "source": [
    "# Getting the solution \n",
    "exp = sol.rhs\n",
    "exp"
   ]
  },
  {
   "cell_type": "code",
   "execution_count": 11,
   "metadata": {},
   "outputs": [
    {
     "data": {
      "text/latex": [
       "$\\displaystyle C_{2}$"
      ],
      "text/plain": [
       "C2"
      ]
     },
     "execution_count": 11,
     "metadata": {},
     "output_type": "execute_result"
    }
   ],
   "source": [
    "# Naming the constants C1 and C2\n",
    "C2, _, C1 = tuple(exp.free_symbols)\n",
    "C2                      # Error and we need to resolve it "
   ]
  },
  {
   "cell_type": "code",
   "execution_count": 12,
   "metadata": {},
   "outputs": [
    {
     "data": {
      "text/latex": [
       "$\\displaystyle C_{1} + \\tilde{\\infty}$"
      ],
      "text/plain": [
       "C1 + zoo"
      ]
     },
     "execution_count": 12,
     "metadata": {},
     "output_type": "execute_result"
    }
   ],
   "source": [
    "# Setting the values C1=0 and C2=1\n",
    "exp.subs({C1: 0, C2: 1})     # error because of the above "
   ]
  },
  {
   "cell_type": "markdown",
   "metadata": {},
   "source": [
    "### **Giving Initial Conditions**\n",
    "We now solve the initial value problem"
   ]
  },
  {
   "cell_type": "code",
   "execution_count": 13,
   "metadata": {},
   "outputs": [
    {
     "data": {
      "text/plain": [
       "{f(1): 0, Subs(Derivative(f(x), x), x, 2): 1}"
      ]
     },
     "execution_count": 13,
     "metadata": {},
     "output_type": "execute_result"
    }
   ],
   "source": [
    "# Wrting a dictionary with the initial conditions\n",
    "ics = {f.subs(x, 1): 0, f.diff().subs(x,2):1}\n",
    "ics"
   ]
  },
  {
   "cell_type": "code",
   "execution_count": 17,
   "metadata": {},
   "outputs": [
    {
     "data": {
      "text/latex": [
       "$\\displaystyle f{\\left(x \\right)} = \\frac{x^{4}}{16} - 2 \\log{\\left(x \\right)} - \\frac{1}{16}$"
      ],
      "text/plain": [
       "Eq(f(x), x**4/16 - 2*log(x) - 1/16)"
      ]
     },
     "execution_count": 17,
     "metadata": {},
     "output_type": "execute_result"
    }
   ],
   "source": [
    "# Solving the initial value problem\n",
    "ivp = sp.dsolve(diff_eq, ics=ics)\n",
    "ivp"
   ]
  },
  {
   "cell_type": "code",
   "execution_count": 15,
   "metadata": {},
   "outputs": [
    {
     "data": {
      "text/latex": [
       "$\\displaystyle f{\\left(1 \\right)} = 0$"
      ],
      "text/plain": [
       "Eq(f(1), 0)"
      ]
     },
     "execution_count": 15,
     "metadata": {},
     "output_type": "execute_result"
    }
   ],
   "source": [
    "# Checking the first initial comdition\n",
    "ivp.subs(x, 1)"
   ]
  },
  {
   "cell_type": "code",
   "execution_count": 18,
   "metadata": {},
   "outputs": [
    {
     "ename": "AttributeError",
     "evalue": "'Equality' object has no attribute 'diff'",
     "output_type": "error",
     "traceback": [
      "\u001b[1;31m---------------------------------------------------------------------------\u001b[0m",
      "\u001b[1;31mAttributeError\u001b[0m                            Traceback (most recent call last)",
      "Cell \u001b[1;32mIn[18], line 2\u001b[0m\n\u001b[0;32m      1\u001b[0m \u001b[38;5;66;03m# Checking the second initial condition\u001b[39;00m\n\u001b[1;32m----> 2\u001b[0m \u001b[43mivp\u001b[49m\u001b[38;5;241;43m.\u001b[39;49m\u001b[43mdiff\u001b[49m()\u001b[38;5;241m.\u001b[39msubs(x, \u001b[38;5;241m2\u001b[39m)\n",
      "\u001b[1;31mAttributeError\u001b[0m: 'Equality' object has no attribute 'diff'"
     ]
    }
   ],
   "source": [
    "# Checking the second initial condition\n",
    "ivp.diff().subs(x, 2)"
   ]
  },
  {
   "cell_type": "code",
   "execution_count": null,
   "metadata": {},
   "outputs": [
    {
     "ename": "AttributeError",
     "evalue": "'Equality' object has no attribute 'diff'",
     "output_type": "error",
     "traceback": [
      "\u001b[1;31m---------------------------------------------------------------------------\u001b[0m",
      "\u001b[1;31mAttributeError\u001b[0m                            Traceback (most recent call last)",
      "Cell \u001b[1;32mIn[95], line 2\u001b[0m\n\u001b[0;32m      1\u001b[0m \u001b[38;5;66;03m# Checking the solution satisfies the ODE\u001b[39;00m\n\u001b[1;32m----> 2\u001b[0m (x \u001b[38;5;241m*\u001b[39m \u001b[43mivp\u001b[49m\u001b[38;5;241;43m.\u001b[39;49m\u001b[43mdiff\u001b[49m(x, x) \u001b[38;5;241m+\u001b[39m ivp\u001b[38;5;241m.\u001b[39mdiff())\u001b[38;5;241m.\u001b[39msimplify()\n",
      "\u001b[1;31mAttributeError\u001b[0m: 'Equality' object has no attribute 'diff'"
     ]
    }
   ],
   "source": [
    "# Checking the solution satisfies the ODE\n",
    "(x * ivp.diff(x, x) + ivp.diff()).simplify()"
   ]
  }
 ],
 "metadata": {
  "kernelspec": {
   "display_name": "Python 3",
   "language": "python",
   "name": "python3"
  },
  "language_info": {
   "codemirror_mode": {
    "name": "ipython",
    "version": 3
   },
   "file_extension": ".py",
   "mimetype": "text/x-python",
   "name": "python",
   "nbconvert_exporter": "python",
   "pygments_lexer": "ipython3",
   "version": "3.12.5"
  }
 },
 "nbformat": 4,
 "nbformat_minor": 2
}
