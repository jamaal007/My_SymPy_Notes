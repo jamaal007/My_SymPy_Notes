{
 "cells": [
  {
   "cell_type": "markdown",
   "metadata": {},
   "source": [
    "# **Going Numerical**\n",
    "In this Section, we are going to look at how to get numerical answer from SymPy. This allows us to create interactions between SymPy and other useful Python packages like NumPy and Matplotlib.\n",
    "\n",
    "### **Functions and Attributes:**\n",
    " - **sp.evalf()**     - Evaluate a SymPy numerical expresions to a floating-point number.\n",
    " - **sp.lambdify()**  - Create a **\"lambdified function\"** out of an expression. "
   ]
  },
  {
   "cell_type": "code",
   "execution_count": 1,
   "metadata": {},
   "outputs": [],
   "source": [
    "# Import SymPy library \n",
    "import sympy as sp"
   ]
  },
  {
   "cell_type": "code",
   "execution_count": 2,
   "metadata": {},
   "outputs": [
    {
     "data": {
      "text/latex": [
       "$\\displaystyle x$"
      ],
      "text/plain": [
       "x"
      ]
     },
     "execution_count": 2,
     "metadata": {},
     "output_type": "execute_result"
    }
   ],
   "source": [
    "# #Defining the symbols \n",
    "x = sp.Symbol(\"x\")\n",
    "x"
   ]
  },
  {
   "cell_type": "markdown",
   "metadata": {},
   "source": [
    "## **Floating-point Numbers with Evalf**\n",
    "We have previously seen the **subs()** function for the sunstituting values into expression. However, to be able to get floating-point numbers, we will need the function **evalf()**. "
   ]
  },
  {
   "cell_type": "code",
   "execution_count": 4,
   "metadata": {},
   "outputs": [
    {
     "data": {
      "text/latex": [
       "$\\displaystyle \\pi x^{2} + 5 x + e$"
      ],
      "text/plain": [
       "pi*x**2 + 5*x + E"
      ]
     },
     "execution_count": 4,
     "metadata": {},
     "output_type": "execute_result"
    }
   ],
   "source": [
    "# Creating an expression \n",
    "expr = sp.pi * x**2 + 5 * x + sp.E\n",
    "expr"
   ]
  },
  {
   "cell_type": "code",
   "execution_count": 7,
   "metadata": {},
   "outputs": [
    {
     "data": {
      "text/latex": [
       "$\\displaystyle e + \\pi + 5$"
      ],
      "text/plain": [
       "E + pi + 5"
      ]
     },
     "execution_count": 7,
     "metadata": {},
     "output_type": "execute_result"
    }
   ],
   "source": [
    "# Simple substitution \n",
    "value = expr.subs(x, 1)\n",
    "value"
   ]
  },
  {
   "cell_type": "code",
   "execution_count": 8,
   "metadata": {},
   "outputs": [
    {
     "data": {
      "text/latex": [
       "$\\displaystyle 10.8598744820488$"
      ],
      "text/plain": [
       "10.8598744820488"
      ]
     },
     "execution_count": 8,
     "metadata": {},
     "output_type": "execute_result"
    }
   ],
   "source": [
    "# Getting the floating-point number (evalf for \"evaluate function\")\n",
    "value.evalf()"
   ]
  },
  {
   "cell_type": "code",
   "execution_count": 9,
   "metadata": {},
   "outputs": [
    {
     "data": {
      "text/latex": [
       "$\\displaystyle 10.859874$"
      ],
      "text/plain": [
       "10.859874"
      ]
     },
     "execution_count": 9,
     "metadata": {},
     "output_type": "execute_result"
    }
   ],
   "source": [
    "# Can specify precision\n",
    "value.evalf(8)"
   ]
  },
  {
   "cell_type": "code",
   "execution_count": 12,
   "metadata": {},
   "outputs": [
    {
     "data": {
      "text/latex": [
       "$\\displaystyle 10.859874$"
      ],
      "text/plain": [
       "10.859874"
      ]
     },
     "execution_count": 12,
     "metadata": {},
     "output_type": "execute_result"
    }
   ],
   "source": [
    "# Alternative syntax (N for NumericaL)\n",
    "sp.N(value, 8)"
   ]
  },
  {
   "cell_type": "markdown",
   "metadata": {},
   "source": [
    "### **Going Numerical with Lambdify**\n",
    "Unfortunately, using **evalf()** is very slow. So if you have many points that you want to evaluate an expresion at (which we do when we plot something), then you should use **lambdify()** instead. "
   ]
  },
  {
   "cell_type": "code",
   "execution_count": 13,
   "metadata": {},
   "outputs": [
    {
     "data": {
      "text/plain": [
       "<function _lambdifygenerated(x)>"
      ]
     },
     "execution_count": 13,
     "metadata": {},
     "output_type": "execute_result"
    }
   ],
   "source": [
    "# \"Lambdifying\" the expression\n",
    "expr = sp.pi * x**2 + 5 * x + sp.E\n",
    "lambdified_expression = sp.lambdify(x, expr)\n",
    "lambdified_expression"
   ]
  },
  {
   "cell_type": "code",
   "execution_count": 14,
   "metadata": {},
   "outputs": [
    {
     "data": {
      "text/plain": [
       "25.284652442818217"
      ]
     },
     "execution_count": 14,
     "metadata": {},
     "output_type": "execute_result"
    }
   ],
   "source": [
    "# Can easily evaluate points\n",
    "lambdified_expression(2)"
   ]
  },
  {
   "cell_type": "code",
   "execution_count": 17,
   "metadata": {},
   "outputs": [],
   "source": [
    "# Can use NumPy to create many points at once\n",
    "import numpy as np\n",
    "points = np.linspace(-20, 20, 1000)"
   ]
  },
  {
   "cell_type": "code",
   "execution_count": 18,
   "metadata": {},
   "outputs": [
    {
     "data": {
      "text/plain": [
       "array([1.15935534e+03, 1.15452900e+03, 1.14971273e+03, 1.14490653e+03,\n",
       "       1.14011041e+03, 1.13532436e+03, 1.13054838e+03, 1.12578248e+03,\n",
       "       1.12102665e+03, 1.11628089e+03, 1.11154521e+03, 1.10681960e+03,\n",
       "       1.10210406e+03, 1.09739860e+03, 1.09270321e+03, 1.08801789e+03,\n",
       "       1.08334264e+03, 1.07867747e+03, 1.07402237e+03, 1.06937735e+03,\n",
       "       1.06474240e+03, 1.06011752e+03, 1.05550271e+03, 1.05089798e+03,\n",
       "       1.04630332e+03, 1.04171874e+03, 1.03714423e+03, 1.03257979e+03,\n",
       "       1.02802542e+03, 1.02348113e+03, 1.01894691e+03, 1.01442276e+03,\n",
       "       1.00990869e+03, 1.00540469e+03, 1.00091076e+03, 9.96426912e+02,\n",
       "       9.91953132e+02, 9.87489425e+02, 9.83035792e+02, 9.78592231e+02,\n",
       "       9.74158745e+02, 9.69735331e+02, 9.65321990e+02, 9.60918723e+02,\n",
       "       9.56525529e+02, 9.52142408e+02, 9.47769361e+02, 9.43406387e+02,\n",
       "       9.39053486e+02, 9.34710658e+02, 9.30377903e+02, 9.26055222e+02,\n",
       "       9.21742614e+02, 9.17440079e+02, 9.13147617e+02, 9.08865229e+02,\n",
       "       9.04592913e+02, 9.00330671e+02, 8.96078503e+02, 8.91836407e+02,\n",
       "       8.87604385e+02, 8.83382436e+02, 8.79170560e+02, 8.74968758e+02,\n",
       "       8.70777028e+02, 8.66595372e+02, 8.62423789e+02, 8.58262280e+02,\n",
       "       8.54110843e+02, 8.49969480e+02, 8.45838190e+02, 8.41716973e+02,\n",
       "       8.37605830e+02, 8.33504760e+02, 8.29413763e+02, 8.25332839e+02,\n",
       "       8.21261988e+02, 8.17201211e+02, 8.13150507e+02, 8.09109876e+02,\n",
       "       8.05079318e+02, 8.01058834e+02, 7.97048423e+02, 7.93048085e+02,\n",
       "       7.89057820e+02, 7.85077629e+02, 7.81107511e+02, 7.77147466e+02,\n",
       "       7.73197494e+02, 7.69257595e+02, 7.65327770e+02, 7.61408018e+02,\n",
       "       7.57498339e+02, 7.53598734e+02, 7.49709201e+02, 7.45829742e+02,\n",
       "       7.41960356e+02, 7.38101044e+02, 7.34251804e+02, 7.30412638e+02,\n",
       "       7.26583545e+02, 7.22764525e+02, 7.18955579e+02, 7.15156706e+02,\n",
       "       7.11367906e+02, 7.07589179e+02, 7.03820525e+02, 7.00061945e+02,\n",
       "       6.96313438e+02, 6.92575004e+02, 6.88846643e+02, 6.85128356e+02,\n",
       "       6.81420142e+02, 6.77722001e+02, 6.74033933e+02, 6.70355939e+02,\n",
       "       6.66688018e+02, 6.63030170e+02, 6.59382395e+02, 6.55744693e+02,\n",
       "       6.52117065e+02, 6.48499510e+02, 6.44892028e+02, 6.41294619e+02,\n",
       "       6.37707284e+02, 6.34130022e+02, 6.30562833e+02, 6.27005717e+02,\n",
       "       6.23458675e+02, 6.19921706e+02, 6.16394810e+02, 6.12877987e+02,\n",
       "       6.09371238e+02, 6.05874561e+02, 6.02387958e+02, 5.98911428e+02,\n",
       "       5.95444972e+02, 5.91988589e+02, 5.88542278e+02, 5.85106042e+02,\n",
       "       5.81679878e+02, 5.78263788e+02, 5.74857770e+02, 5.71461826e+02,\n",
       "       5.68075956e+02, 5.64700158e+02, 5.61334434e+02, 5.57978783e+02,\n",
       "       5.54633205e+02, 5.51297701e+02, 5.47972269e+02, 5.44656911e+02,\n",
       "       5.41351626e+02, 5.38056415e+02, 5.34771276e+02, 5.31496211e+02,\n",
       "       5.28231219e+02, 5.24976301e+02, 5.21731455e+02, 5.18496683e+02,\n",
       "       5.15271984e+02, 5.12057358e+02, 5.08852806e+02, 5.05658327e+02,\n",
       "       5.02473921e+02, 4.99299588e+02, 4.96135328e+02, 4.92981142e+02,\n",
       "       4.89837029e+02, 4.86702989e+02, 4.83579022e+02, 4.80465129e+02,\n",
       "       4.77361309e+02, 4.74267562e+02, 4.71183888e+02, 4.68110287e+02,\n",
       "       4.65046760e+02, 4.61993306e+02, 4.58949925e+02, 4.55916618e+02,\n",
       "       4.52893383e+02, 4.49880222e+02, 4.46877134e+02, 4.43884120e+02,\n",
       "       4.40901178e+02, 4.37928310e+02, 4.34965515e+02, 4.32012794e+02,\n",
       "       4.29070145e+02, 4.26137570e+02, 4.23215068e+02, 4.20302639e+02,\n",
       "       4.17400284e+02, 4.14508001e+02, 4.11625792e+02, 4.08753657e+02,\n",
       "       4.05891594e+02, 4.03039605e+02, 4.00197688e+02, 3.97365846e+02,\n",
       "       3.94544076e+02, 3.91732379e+02, 3.88930756e+02, 3.86139206e+02,\n",
       "       3.83357730e+02, 3.80586326e+02, 3.77824996e+02, 3.75073739e+02,\n",
       "       3.72332555e+02, 3.69601444e+02, 3.66880407e+02, 3.64169443e+02,\n",
       "       3.61468552e+02, 3.58777734e+02, 3.56096990e+02, 3.53426319e+02,\n",
       "       3.50765721e+02, 3.48115196e+02, 3.45474745e+02, 3.42844366e+02,\n",
       "       3.40224061e+02, 3.37613830e+02, 3.35013671e+02, 3.32423586e+02,\n",
       "       3.29843574e+02, 3.27273635e+02, 3.24713769e+02, 3.22163977e+02,\n",
       "       3.19624258e+02, 3.17094612e+02, 3.14575039e+02, 3.12065540e+02,\n",
       "       3.09566114e+02, 3.07076761e+02, 3.04597481e+02, 3.02128274e+02,\n",
       "       2.99669141e+02, 2.97220081e+02, 2.94781094e+02, 2.92352181e+02,\n",
       "       2.89933340e+02, 2.87524573e+02, 2.85125879e+02, 2.82737259e+02,\n",
       "       2.80358711e+02, 2.77990237e+02, 2.75631836e+02, 2.73283508e+02,\n",
       "       2.70945254e+02, 2.68617073e+02, 2.66298965e+02, 2.63990930e+02,\n",
       "       2.61692968e+02, 2.59405080e+02, 2.57127265e+02, 2.54859523e+02,\n",
       "       2.52601854e+02, 2.50354259e+02, 2.48116737e+02, 2.45889288e+02,\n",
       "       2.43671912e+02, 2.41464610e+02, 2.39267380e+02, 2.37080224e+02,\n",
       "       2.34903142e+02, 2.32736132e+02, 2.30579196e+02, 2.28432333e+02,\n",
       "       2.26295543e+02, 2.24168826e+02, 2.22052183e+02, 2.19945613e+02,\n",
       "       2.17849116e+02, 2.15762692e+02, 2.13686342e+02, 2.11620065e+02,\n",
       "       2.09563861e+02, 2.07517730e+02, 2.05481673e+02, 2.03455688e+02,\n",
       "       2.01439777e+02, 1.99433939e+02, 1.97438175e+02, 1.95452484e+02,\n",
       "       1.93476865e+02, 1.91511321e+02, 1.89555849e+02, 1.87610450e+02,\n",
       "       1.85675125e+02, 1.83749873e+02, 1.81834695e+02, 1.79929589e+02,\n",
       "       1.78034557e+02, 1.76149598e+02, 1.74274712e+02, 1.72409900e+02,\n",
       "       1.70555160e+02, 1.68710494e+02, 1.66875901e+02, 1.65051382e+02,\n",
       "       1.63236935e+02, 1.61432562e+02, 1.59638262e+02, 1.57854036e+02,\n",
       "       1.56079882e+02, 1.54315802e+02, 1.52561795e+02, 1.50817861e+02,\n",
       "       1.49084001e+02, 1.47360214e+02, 1.45646499e+02, 1.43942859e+02,\n",
       "       1.42249291e+02, 1.40565797e+02, 1.38892376e+02, 1.37229028e+02,\n",
       "       1.35575753e+02, 1.33932552e+02, 1.32299423e+02, 1.30676369e+02,\n",
       "       1.29063387e+02, 1.27460478e+02, 1.25867643e+02, 1.24284881e+02,\n",
       "       1.22712192e+02, 1.21149577e+02, 1.19597034e+02, 1.18054565e+02,\n",
       "       1.16522169e+02, 1.14999847e+02, 1.13487597e+02, 1.11985421e+02,\n",
       "       1.10493318e+02, 1.09011289e+02, 1.07539332e+02, 1.06077449e+02,\n",
       "       1.04625639e+02, 1.03183902e+02, 1.01752239e+02, 1.00330648e+02,\n",
       "       9.89191313e+01, 9.75176875e+01, 9.61263169e+01, 9.47450195e+01,\n",
       "       9.33737954e+01, 9.20126445e+01, 9.06615669e+01, 8.93205624e+01,\n",
       "       8.79896312e+01, 8.66687733e+01, 8.53579885e+01, 8.40572770e+01,\n",
       "       8.27666388e+01, 8.14860737e+01, 8.02155819e+01, 7.89551634e+01,\n",
       "       7.77048180e+01, 7.64645459e+01, 7.52343471e+01, 7.40142214e+01,\n",
       "       7.28041690e+01, 7.16041898e+01, 7.04142839e+01, 6.92344512e+01,\n",
       "       6.80646917e+01, 6.69050055e+01, 6.57553925e+01, 6.46158527e+01,\n",
       "       6.34863862e+01, 6.23669929e+01, 6.12576728e+01, 6.01584259e+01,\n",
       "       5.90692523e+01, 5.79901520e+01, 5.69211248e+01, 5.58621709e+01,\n",
       "       5.48132902e+01, 5.37744828e+01, 5.27457486e+01, 5.17270876e+01,\n",
       "       5.07184999e+01, 4.97199853e+01, 4.87315441e+01, 4.77531760e+01,\n",
       "       4.67848812e+01, 4.58266596e+01, 4.48785113e+01, 4.39404362e+01,\n",
       "       4.30124343e+01, 4.20945056e+01, 4.11866502e+01, 4.02888680e+01,\n",
       "       3.94011591e+01, 3.85235233e+01, 3.76559609e+01, 3.67984716e+01,\n",
       "       3.59510556e+01, 3.51137128e+01, 3.42864432e+01, 3.34692469e+01,\n",
       "       3.26621238e+01, 3.18650740e+01, 3.10780974e+01, 3.03011940e+01,\n",
       "       2.95343638e+01, 2.87776069e+01, 2.80309232e+01, 2.72943127e+01,\n",
       "       2.65677755e+01, 2.58513115e+01, 2.51449208e+01, 2.44486032e+01,\n",
       "       2.37623589e+01, 2.30861879e+01, 2.24200901e+01, 2.17640655e+01,\n",
       "       2.11181141e+01, 2.04822360e+01, 1.98564311e+01, 1.92406994e+01,\n",
       "       1.86350410e+01, 1.80394558e+01, 1.74539438e+01, 1.68785051e+01,\n",
       "       1.63131396e+01, 1.57578473e+01, 1.52126283e+01, 1.46774825e+01,\n",
       "       1.41524099e+01, 1.36374106e+01, 1.31324845e+01, 1.26376316e+01,\n",
       "       1.21528520e+01, 1.16781456e+01, 1.12135124e+01, 1.07589525e+01,\n",
       "       1.03144658e+01, 9.88005229e+00, 9.45571205e+00, 9.04144505e+00,\n",
       "       8.63725128e+00, 8.24313074e+00, 7.85908343e+00, 7.48510935e+00,\n",
       "       7.12120851e+00, 6.76738090e+00, 6.42362653e+00, 6.08994539e+00,\n",
       "       5.76633748e+00, 5.45280280e+00, 5.14934136e+00, 4.85595314e+00,\n",
       "       4.57263817e+00, 4.29939642e+00, 4.03622791e+00, 3.78313263e+00,\n",
       "       3.54011058e+00, 3.30716177e+00, 3.08428619e+00, 2.87148384e+00,\n",
       "       2.66875472e+00, 2.47609884e+00, 2.29351619e+00, 2.12100678e+00,\n",
       "       1.95857059e+00, 1.80620764e+00, 1.66391792e+00, 1.53170144e+00,\n",
       "       1.40955819e+00, 1.29748817e+00, 1.19549138e+00, 1.10356783e+00,\n",
       "       1.02171751e+00, 9.49940420e-01, 8.88236565e-01, 8.36605943e-01,\n",
       "       7.95048554e-01, 7.63564398e-01, 7.42153474e-01, 7.30815784e-01,\n",
       "       7.29551327e-01, 7.38360102e-01, 7.57242110e-01, 7.86197351e-01,\n",
       "       8.25225826e-01, 8.74327532e-01, 9.33502472e-01, 1.00275065e+00,\n",
       "       1.08207205e+00, 1.17146669e+00, 1.27093456e+00, 1.38047566e+00,\n",
       "       1.50009000e+00, 1.62977757e+00, 1.76953837e+00, 1.91937241e+00,\n",
       "       2.07927968e+00, 2.24926018e+00, 2.42931392e+00, 2.61944088e+00,\n",
       "       2.81964108e+00, 3.02991452e+00, 3.25026118e+00, 3.48068108e+00,\n",
       "       3.72117421e+00, 3.97174058e+00, 4.23238017e+00, 4.50309300e+00,\n",
       "       4.78387907e+00, 5.07473836e+00, 5.37567089e+00, 5.68667666e+00,\n",
       "       6.00775565e+00, 6.33890788e+00, 6.68013334e+00, 7.03143203e+00,\n",
       "       7.39280396e+00, 7.76424912e+00, 8.14576751e+00, 8.53735913e+00,\n",
       "       8.93902399e+00, 9.35076208e+00, 9.77257341e+00, 1.02044580e+01,\n",
       "       1.06464158e+01, 1.10984468e+01, 1.15605510e+01, 1.20327285e+01,\n",
       "       1.25149792e+01, 1.30073032e+01, 1.35097004e+01, 1.40221708e+01,\n",
       "       1.45447145e+01, 1.50773313e+01, 1.56200215e+01, 1.61727848e+01,\n",
       "       1.67356214e+01, 1.73085312e+01, 1.78915143e+01, 1.84845705e+01,\n",
       "       1.90877001e+01, 1.97009028e+01, 2.03241788e+01, 2.09575280e+01,\n",
       "       2.16009504e+01, 2.22544461e+01, 2.29180150e+01, 2.35916572e+01,\n",
       "       2.42753726e+01, 2.49691612e+01, 2.56730230e+01, 2.63869581e+01,\n",
       "       2.71109664e+01, 2.78450480e+01, 2.85892027e+01, 2.93434307e+01,\n",
       "       3.01077320e+01, 3.08821065e+01, 3.16665542e+01, 3.24610751e+01,\n",
       "       3.32656693e+01, 3.40803367e+01, 3.49050773e+01, 3.57398912e+01,\n",
       "       3.65847783e+01, 3.74397386e+01, 3.83047722e+01, 3.91798790e+01,\n",
       "       4.00650590e+01, 4.09603123e+01, 4.18656388e+01, 4.27810385e+01,\n",
       "       4.37065115e+01, 4.46420577e+01, 4.55876772e+01, 4.65433698e+01,\n",
       "       4.75091357e+01, 4.84849748e+01, 4.94708872e+01, 5.04668728e+01,\n",
       "       5.14729316e+01, 5.24890637e+01, 5.35152690e+01, 5.45515475e+01,\n",
       "       5.55978993e+01, 5.66543243e+01, 5.77208225e+01, 5.87973940e+01,\n",
       "       5.98840387e+01, 6.09807566e+01, 6.20875478e+01, 6.32044122e+01,\n",
       "       6.43313498e+01, 6.54683606e+01, 6.66154447e+01, 6.77726021e+01,\n",
       "       6.89398326e+01, 7.01171364e+01, 7.13045134e+01, 7.25019637e+01,\n",
       "       7.37094872e+01, 7.49270839e+01, 7.61547538e+01, 7.73924970e+01,\n",
       "       7.86403135e+01, 7.98982031e+01, 8.11661660e+01, 8.24442021e+01,\n",
       "       8.37323115e+01, 8.50304940e+01, 8.63387499e+01, 8.76570789e+01,\n",
       "       8.89854812e+01, 9.03239567e+01, 9.16725055e+01, 9.30311274e+01,\n",
       "       9.43998227e+01, 9.57785911e+01, 9.71674328e+01, 9.85663477e+01,\n",
       "       9.99753358e+01, 1.01394397e+02, 1.02823532e+02, 1.04262740e+02,\n",
       "       1.05712021e+02, 1.07171375e+02, 1.08640803e+02, 1.10120303e+02,\n",
       "       1.11609877e+02, 1.13109525e+02, 1.14619245e+02, 1.16139039e+02,\n",
       "       1.17668906e+02, 1.19208846e+02, 1.20758859e+02, 1.22318946e+02,\n",
       "       1.23889106e+02, 1.25469339e+02, 1.27059645e+02, 1.28660025e+02,\n",
       "       1.30270478e+02, 1.31891004e+02, 1.33521603e+02, 1.35162275e+02,\n",
       "       1.36813021e+02, 1.38473840e+02, 1.40144732e+02, 1.41825698e+02,\n",
       "       1.43516736e+02, 1.45217848e+02, 1.46929034e+02, 1.48650292e+02,\n",
       "       1.50381623e+02, 1.52123028e+02, 1.53874506e+02, 1.55636058e+02,\n",
       "       1.57407682e+02, 1.59189380e+02, 1.60981151e+02, 1.62782995e+02,\n",
       "       1.64594913e+02, 1.66416903e+02, 1.68248967e+02, 1.70091104e+02,\n",
       "       1.71943315e+02, 1.73805598e+02, 1.75677955e+02, 1.77560385e+02,\n",
       "       1.79452889e+02, 1.81355465e+02, 1.83268115e+02, 1.85190838e+02,\n",
       "       1.87123634e+02, 1.89066504e+02, 1.91019447e+02, 1.92982463e+02,\n",
       "       1.94955552e+02, 1.96938714e+02, 1.98931950e+02, 2.00935259e+02,\n",
       "       2.02948641e+02, 2.04972096e+02, 2.07005625e+02, 2.09049227e+02,\n",
       "       2.11102902e+02, 2.13166650e+02, 2.15240471e+02, 2.17324366e+02,\n",
       "       2.19418334e+02, 2.21522375e+02, 2.23636490e+02, 2.25760677e+02,\n",
       "       2.27894938e+02, 2.30039273e+02, 2.32193680e+02, 2.34358161e+02,\n",
       "       2.36532714e+02, 2.38717341e+02, 2.40912042e+02, 2.43116815e+02,\n",
       "       2.45331662e+02, 2.47556582e+02, 2.49791575e+02, 2.52036642e+02,\n",
       "       2.54291782e+02, 2.56556994e+02, 2.58832281e+02, 2.61117640e+02,\n",
       "       2.63413073e+02, 2.65718579e+02, 2.68034158e+02, 2.70359810e+02,\n",
       "       2.72695536e+02, 2.75041334e+02, 2.77397206e+02, 2.79763152e+02,\n",
       "       2.82139170e+02, 2.84525262e+02, 2.86921427e+02, 2.89327665e+02,\n",
       "       2.91743977e+02, 2.94170361e+02, 2.96606819e+02, 2.99053350e+02,\n",
       "       3.01509955e+02, 3.03976632e+02, 3.06453383e+02, 3.08940207e+02,\n",
       "       3.11437104e+02, 3.13944075e+02, 3.16461119e+02, 3.18988236e+02,\n",
       "       3.21525426e+02, 3.24072689e+02, 3.26630026e+02, 3.29197436e+02,\n",
       "       3.31774919e+02, 3.34362476e+02, 3.36960105e+02, 3.39567808e+02,\n",
       "       3.42185584e+02, 3.44813433e+02, 3.47451356e+02, 3.50099352e+02,\n",
       "       3.52757421e+02, 3.55425563e+02, 3.58103779e+02, 3.60792067e+02,\n",
       "       3.63490429e+02, 3.66198864e+02, 3.68917373e+02, 3.71645955e+02,\n",
       "       3.74384609e+02, 3.77133338e+02, 3.79892139e+02, 3.82661013e+02,\n",
       "       3.85439961e+02, 3.88228982e+02, 3.91028077e+02, 3.93837244e+02,\n",
       "       3.96656485e+02, 3.99485799e+02, 4.02325186e+02, 4.05174647e+02,\n",
       "       4.08034180e+02, 4.10903787e+02, 4.13783467e+02, 4.16673221e+02,\n",
       "       4.19573047e+02, 4.22482947e+02, 4.25402920e+02, 4.28332967e+02,\n",
       "       4.31273086e+02, 4.34223279e+02, 4.37183545e+02, 4.40153884e+02,\n",
       "       4.43134297e+02, 4.46124782e+02, 4.49125341e+02, 4.52135973e+02,\n",
       "       4.55156679e+02, 4.58187457e+02, 4.61228309e+02, 4.64279234e+02,\n",
       "       4.67340233e+02, 4.70411304e+02, 4.73492449e+02, 4.76583667e+02,\n",
       "       4.79684958e+02, 4.82796323e+02, 4.85917761e+02, 4.89049272e+02,\n",
       "       4.92190856e+02, 4.95342513e+02, 4.98504244e+02, 5.01676048e+02,\n",
       "       5.04857925e+02, 5.08049875e+02, 5.11251899e+02, 5.14463996e+02,\n",
       "       5.17686166e+02, 5.20918409e+02, 5.24160726e+02, 5.27413115e+02,\n",
       "       5.30675578e+02, 5.33948115e+02, 5.37230724e+02, 5.40523407e+02,\n",
       "       5.43826163e+02, 5.47138992e+02, 5.50461894e+02, 5.53794870e+02,\n",
       "       5.57137919e+02, 5.60491041e+02, 5.63854236e+02, 5.67227505e+02,\n",
       "       5.70610847e+02, 5.74004262e+02, 5.77407750e+02, 5.80821311e+02,\n",
       "       5.84244946e+02, 5.87678654e+02, 5.91122435e+02, 5.94576290e+02,\n",
       "       5.98040217e+02, 6.01514218e+02, 6.04998292e+02, 6.08492440e+02,\n",
       "       6.11996660e+02, 6.15510954e+02, 6.19035321e+02, 6.22569761e+02,\n",
       "       6.26114275e+02, 6.29668862e+02, 6.33233522e+02, 6.36808255e+02,\n",
       "       6.40393061e+02, 6.43987941e+02, 6.47592894e+02, 6.51207920e+02,\n",
       "       6.54833019e+02, 6.58468192e+02, 6.62113438e+02, 6.65768757e+02,\n",
       "       6.69434149e+02, 6.73109615e+02, 6.76795154e+02, 6.80490766e+02,\n",
       "       6.84196451e+02, 6.87912209e+02, 6.91638041e+02, 6.95373946e+02,\n",
       "       6.99119924e+02, 7.02875976e+02, 7.06642100e+02, 7.10418298e+02,\n",
       "       7.14204569e+02, 7.18000914e+02, 7.21807331e+02, 7.25623822e+02,\n",
       "       7.29450386e+02, 7.33287023e+02, 7.37133734e+02, 7.40990517e+02,\n",
       "       7.44857374e+02, 7.48734305e+02, 7.52621308e+02, 7.56518385e+02,\n",
       "       7.60425535e+02, 7.64342758e+02, 7.68270054e+02, 7.72207424e+02,\n",
       "       7.76154867e+02, 7.80112383e+02, 7.84079972e+02, 7.88057634e+02,\n",
       "       7.92045370e+02, 7.96043179e+02, 8.00051061e+02, 8.04069017e+02,\n",
       "       8.08097046e+02, 8.12135148e+02, 8.16183323e+02, 8.20241571e+02,\n",
       "       8.24309893e+02, 8.28388288e+02, 8.32476756e+02, 8.36575297e+02,\n",
       "       8.40683912e+02, 8.44802599e+02, 8.48931360e+02, 8.53070195e+02,\n",
       "       8.57219102e+02, 8.61378083e+02, 8.65547137e+02, 8.69726264e+02,\n",
       "       8.73915464e+02, 8.78114738e+02, 8.82324085e+02, 8.86543505e+02,\n",
       "       8.90772998e+02, 8.95012565e+02, 8.99262205e+02, 9.03521918e+02,\n",
       "       9.07791704e+02, 9.12071564e+02, 9.16361496e+02, 9.20661502e+02,\n",
       "       9.24971582e+02, 9.29291734e+02, 9.33621960e+02, 9.37962259e+02,\n",
       "       9.42312631e+02, 9.46673076e+02, 9.51043595e+02, 9.55424187e+02,\n",
       "       9.59814852e+02, 9.64215590e+02, 9.68626402e+02, 9.73047286e+02,\n",
       "       9.77478244e+02, 9.81919276e+02, 9.86370380e+02, 9.90831558e+02,\n",
       "       9.95302809e+02, 9.99784133e+02, 1.00427553e+03, 1.00877700e+03,\n",
       "       1.01328854e+03, 1.01781016e+03, 1.02234185e+03, 1.02688362e+03,\n",
       "       1.03143545e+03, 1.03599736e+03, 1.04056935e+03, 1.04515140e+03,\n",
       "       1.04974353e+03, 1.05434574e+03, 1.05895801e+03, 1.06358036e+03,\n",
       "       1.06821278e+03, 1.07285528e+03, 1.07750785e+03, 1.08217049e+03,\n",
       "       1.08684321e+03, 1.09152600e+03, 1.09621886e+03, 1.10092179e+03,\n",
       "       1.10563480e+03, 1.11035788e+03, 1.11509104e+03, 1.11983427e+03,\n",
       "       1.12458757e+03, 1.12935094e+03, 1.13412439e+03, 1.13890791e+03,\n",
       "       1.14370151e+03, 1.14850517e+03, 1.15331891e+03, 1.15814273e+03,\n",
       "       1.16297662e+03, 1.16782058e+03, 1.17267461e+03, 1.17753872e+03,\n",
       "       1.18241290e+03, 1.18729715e+03, 1.19219148e+03, 1.19709588e+03,\n",
       "       1.20201035e+03, 1.20693490e+03, 1.21186952e+03, 1.21681421e+03,\n",
       "       1.22176898e+03, 1.22673382e+03, 1.23170873e+03, 1.23669371e+03,\n",
       "       1.24168877e+03, 1.24669391e+03, 1.25170911e+03, 1.25673439e+03,\n",
       "       1.26176974e+03, 1.26681517e+03, 1.27187066e+03, 1.27693624e+03,\n",
       "       1.28201188e+03, 1.28709760e+03, 1.29219339e+03, 1.29729926e+03,\n",
       "       1.30241519e+03, 1.30754120e+03, 1.31267729e+03, 1.31782345e+03,\n",
       "       1.32297968e+03, 1.32814598e+03, 1.33332236e+03, 1.33850881e+03,\n",
       "       1.34370533e+03, 1.34891193e+03, 1.35412860e+03, 1.35935534e+03])"
      ]
     },
     "execution_count": 18,
     "metadata": {},
     "output_type": "execute_result"
    }
   ],
   "source": [
    "# Can evaluate on all the points at once\n",
    "lambdified_expression(points)"
   ]
  },
  {
   "cell_type": "code",
   "execution_count": 19,
   "metadata": {},
   "outputs": [
    {
     "data": {
      "text/plain": [
       "numpy.ndarray"
      ]
     },
     "execution_count": 19,
     "metadata": {},
     "output_type": "execute_result"
    }
   ],
   "source": [
    "# Can check the type of the above \n",
    "type(lambdified_expression(points))"
   ]
  },
  {
   "cell_type": "code",
   "execution_count": 21,
   "metadata": {},
   "outputs": [
    {
     "data": {
      "image/png": "[encoded data removed]",
      "text/plain": [
       "<Figure size 640x480 with 1 Axes>"
      ]
     },
     "metadata": {},
     "output_type": "display_data"
    }
   ],
   "source": [
    "# Can use the Matplotlib to plot the values \n",
    "import matplotlib.pyplot as plt\n",
    "plt.plot(points, lambdified_expression(points))\n",
    "plt.title(\"Parabola\")\n",
    "plt.show()"
   ]
  },
  {
   "cell_type": "code",
   "execution_count": null,
   "metadata": {},
   "outputs": [],
   "source": []
  }
 ],
 "metadata": {
  "kernelspec": {
   "display_name": "Python 3",
   "language": "python",
   "name": "python3"
  },
  "language_info": {
   "codemirror_mode": {
    "name": "ipython",
    "version": 3
   },
   "file_extension": ".py",
   "mimetype": "text/x-python",
   "name": "python",
   "nbconvert_exporter": "python",
   "pygments_lexer": "ipython3",
   "version": "3.12.5"
  }
 },
 "nbformat": 4,
 "nbformat_minor": 2
}
